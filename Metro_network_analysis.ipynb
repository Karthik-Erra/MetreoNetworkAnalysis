{
 "cells": [
  {
   "cell_type": "code",
   "execution_count": 6,
   "id": "bad8742d",
   "metadata": {},
   "outputs": [
    {
     "name": "stdout",
     "output_type": "stream",
     "text": [
      "   Station ID         Station Name  Distance from Start (km)          Line  \\\n",
      "0           1             Jhil Mil                      10.3      Red line   \n",
      "1           2  Welcome [Conn: Red]                      46.8     Pink line   \n",
      "2           3          DLF Phase 3                      10.0   Rapid Metro   \n",
      "3           4           Okhla NSIC                      23.8  Magenta line   \n",
      "4           5           Dwarka Mor                      10.2     Blue line   \n",
      "\n",
      "  Opening Date Station Layout   Latitude  Longitude  \n",
      "0   2008-04-06       Elevated  28.675790  77.312390  \n",
      "1   2018-10-31       Elevated  28.671800  77.277560  \n",
      "2   2013-11-14       Elevated  28.493600  77.093500  \n",
      "3   2017-12-25       Elevated  28.554483  77.264849  \n",
      "4   2005-12-30       Elevated  28.619320  77.033260  \n"
     ]
    }
   ],
   "source": [
    "import pandas as pd\n",
    "import folium\n",
    "import plotly.express as px\n",
    "import plotly.graph_objects as go\n",
    "from plotly.subplots import make_subplots\n",
    "import plotly.io as pio\n",
    "pio.templates.default = \"plotly_white\"\n",
    "\n",
    "metro_data = pd.read_csv(\"Delhi-Metro-Network.csv\")\n",
    "\n",
    "print(metro_data.head())"
   ]
  },
  {
   "cell_type": "code",
   "execution_count": 7,
   "id": "49b8b137",
   "metadata": {},
   "outputs": [
    {
     "data": {
      "text/plain": [
       "Station ID                  0\n",
       "Station Name                0\n",
       "Distance from Start (km)    0\n",
       "Line                        0\n",
       "Opening Date                0\n",
       "Station Layout              0\n",
       "Latitude                    0\n",
       "Longitude                   0\n",
       "dtype: int64"
      ]
     },
     "execution_count": 7,
     "metadata": {},
     "output_type": "execute_result"
    }
   ],
   "source": [
    "# checking for missing values\n",
    "missing_values = metro_data.isnull().sum()\n",
    "\n",
    "# checking data types\n",
    "data_types = metro_data.dtypes\n",
    "\n",
    "missing_values"
   ]
  },
  {
   "cell_type": "code",
   "execution_count": null,
   "id": "81f0c1de",
   "metadata": {},
   "outputs": [],
   "source": []
  }
 ],
 "metadata": {
  "kernelspec": {
   "display_name": "Python 3 (ipykernel)",
   "language": "python",
   "name": "python3"
  },
  "language_info": {
   "codemirror_mode": {
    "name": "ipython",
    "version": 3
   },
   "file_extension": ".py",
   "mimetype": "text/x-python",
   "name": "python",
   "nbconvert_exporter": "python",
   "pygments_lexer": "ipython3",
   "version": "3.9.13"
  }
 },
 "nbformat": 4,
 "nbformat_minor": 5
}
